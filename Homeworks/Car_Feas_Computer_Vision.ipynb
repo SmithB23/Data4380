{
 "cells": [
  {
   "cell_type": "code",
   "execution_count": 1,
   "id": "72d89913-0671-4459-8045-8cdc44602881",
   "metadata": {},
   "outputs": [
    {
     "name": "stderr",
     "output_type": "stream",
     "text": [
      "2025-07-11 19:47:54.482947: I tensorflow/core/util/port.cc:153] oneDNN custom operations are on. You may see slightly different numerical results due to floating-point round-off errors from different computation orders. To turn them off, set the environment variable `TF_ENABLE_ONEDNN_OPTS=0`.\n",
      "2025-07-11 19:47:54.513831: I external/local_xla/xla/tsl/cuda/cudart_stub.cc:32] Could not find cuda drivers on your machine, GPU will not be used.\n",
      "2025-07-11 19:47:54.800651: I external/local_xla/xla/tsl/cuda/cudart_stub.cc:32] Could not find cuda drivers on your machine, GPU will not be used.\n",
      "2025-07-11 19:47:55.096125: E external/local_xla/xla/stream_executor/cuda/cuda_fft.cc:477] Unable to register cuFFT factory: Attempting to register factory for plugin cuFFT when one has already been registered\n",
      "WARNING: All log messages before absl::InitializeLog() is called are written to STDERR\n",
      "E0000 00:00:1752281275.318743    1174 cuda_dnn.cc:8310] Unable to register cuDNN factory: Attempting to register factory for plugin cuDNN when one has already been registered\n",
      "E0000 00:00:1752281275.396003    1174 cuda_blas.cc:1418] Unable to register cuBLAS factory: Attempting to register factory for plugin cuBLAS when one has already been registered\n",
      "2025-07-11 19:47:55.967617: I tensorflow/core/platform/cpu_feature_guard.cc:210] This TensorFlow binary is optimized to use available CPU instructions in performance-critical operations.\n",
      "To enable the following instructions: AVX2 AVX_VNNI FMA, in other operations, rebuild TensorFlow with the appropriate compiler flags.\n"
     ]
    },
    {
     "name": "stdout",
     "output_type": "stream",
     "text": [
      "2.18.0\n",
      "3.7.0\n"
     ]
    }
   ],
   "source": [
    "    import tensorflow as tf\n",
    "    from tensorflow import keras\n",
    "\n",
    "    print(tf.__version__)\n",
    "    print(keras.__version__)"
   ]
  },
  {
   "cell_type": "code",
   "execution_count": null,
   "id": "68e599af-1696-46b6-a0d8-a855e821948f",
   "metadata": {},
   "outputs": [],
   "source": [
    "To do:\n",
    "Implement test set\n",
    "augment data\n",
    "potentially try to increase complexity of data\n",
    "commenting"
   ]
  },
  {
   "cell_type": "code",
   "execution_count": 26,
   "id": "a9e8756b-0126-4347-bab8-c9250e13ef4d",
   "metadata": {},
   "outputs": [],
   "source": [
    "import os\n",
    "import random\n",
    "import shutil\n",
    "import tensorflow as tf\n",
    "from tensorflow.keras.preprocessing.image import ImageDataGenerator\n",
    "import tensorflow as tf\n",
    "from tensorflow.keras.applications import ResNet50\n",
    "from tensorflow.keras.layers import Dense, GlobalAveragePooling2D\n",
    "from tensorflow.keras.models import Model\n",
    "from tensorflow.keras.optimizers import Adam\n",
    "import matplotlib.pyplot as plt\n",
    "from tensorflow.keras.callbacks import EarlyStopping"
   ]
  },
  {
   "cell_type": "code",
   "execution_count": 11,
   "id": "5233e7e0-e68c-4ac5-9e28-efd8d543124e",
   "metadata": {},
   "outputs": [
    {
     "name": "stdout",
     "output_type": "stream",
     "text": [
      "True\n"
     ]
    }
   ],
   "source": [
    "# Was checking if path was correct need to run cell before first\n",
    "print(os.path.exists(civilian_folder))  \n"
   ]
  },
  {
   "cell_type": "code",
   "execution_count": 18,
   "id": "854369a5-f732-4c48-92e5-77a8a8a5ebf7",
   "metadata": {},
   "outputs": [],
   "source": [
    "#Have to use /mnt/c/ beacuse i am working through ubuntu\n",
    "civilian_folder = '/mnt/c/Users/smith/Downloads/Vehicle Classification.v2i.folder/train/car'\n",
    "target_folder = 'Police_Car/data/civilian'\n",
    "\n",
    "os.makedirs(target_folder, exist_ok=True)\n",
    "\n",
    "# List all images\n",
    "all_images = [f for f in os.listdir(civilian_folder) if f.lower().endswith(('.jpg', '.png'))]\n",
    "\n",
    "# Randomly sample n images\n",
    "n=1000\n",
    "sampled_images = random.sample(all_images, n)\n",
    "\n",
    "# Copy to target folder\n",
    "for img_name in sampled_images:\n",
    "    shutil.copy(os.path.join(civilian_folder, img_name), os.path.join(target_folder, img_name))"
   ]
  },
  {
   "cell_type": "code",
   "execution_count": 19,
   "id": "eeaeae6a-5e09-4811-b702-bd2e5077812d",
   "metadata": {},
   "outputs": [],
   "source": [
    "police_source = '/mnt/c/Users/smith/Downloads/police_cars.v1i.folder/train'\n",
    "police_target = 'Police_Car/data/police'\n",
    "\n",
    "os.makedirs(police_target, exist_ok=True)\n",
    "\n",
    "for img_name in os.listdir(police_source):\n",
    "    if img_name.lower().endswith(('.jpg', '.png')):\n",
    "        shutil.copy(os.path.join(police_source, img_name), os.path.join(police_target, img_name))\n",
    "\n",
    "\n",
    "\n"
   ]
  },
  {
   "cell_type": "code",
   "execution_count": 23,
   "id": "e7340a7e-7823-4168-94b4-f741fc0861ba",
   "metadata": {},
   "outputs": [
    {
     "name": "stdout",
     "output_type": "stream",
     "text": [
      "Found 1642 images belonging to 2 classes.\n",
      "Found 410 images belonging to 2 classes.\n"
     ]
    }
   ],
   "source": [
    "data_dir = 'Police_Car/data' \n",
    "\n",
    "#splitting data set\n",
    "datagen = ImageDataGenerator(\n",
    "    rescale=1./255,\n",
    "    validation_split=0.2  # 80% train, 20% validation\n",
    ")\n",
    "\n",
    "#basic augmentation\n",
    "datagen = ImageDataGenerator(\n",
    "    rescale=1./255,\n",
    "    validation_split=0.2,\n",
    "    rotation_range=20,\n",
    "    zoom_range=0.2,\n",
    "    width_shift_range=0.1,\n",
    "    height_shift_range=0.1,\n",
    "    horizontal_flip=True\n",
    ")\n",
    "\n",
    "# Load training images\n",
    "train_data = datagen.flow_from_directory(\n",
    "    data_dir,\n",
    "    target_size=(224, 224),\n",
    "    batch_size=32,\n",
    "    class_mode='binary',\n",
    "    subset='training'\n",
    ")\n",
    "\n",
    "# Load validation images\n",
    "val_data = datagen.flow_from_directory(\n",
    "    data_dir,\n",
    "    target_size=(224, 224),\n",
    "    batch_size=32,\n",
    "    class_mode='binary',\n",
    "    subset='validation'\n",
    ")\n"
   ]
  },
  {
   "cell_type": "code",
   "execution_count": 27,
   "id": "791231ab-f86c-4fac-afce-a99a2665794c",
   "metadata": {},
   "outputs": [
    {
     "name": "stdout",
     "output_type": "stream",
     "text": [
      "Epoch 1/10\n",
      "\u001b[1m52/52\u001b[0m \u001b[32m━━━━━━━━━━━━━━━━━━━━\u001b[0m\u001b[37m\u001b[0m \u001b[1m98s\u001b[0m 2s/step - accuracy: 0.9549 - loss: 0.2899 - val_accuracy: 1.0000 - val_loss: 0.0147\n",
      "Epoch 2/10\n",
      "\u001b[1m52/52\u001b[0m \u001b[32m━━━━━━━━━━━━━━━━━━━━\u001b[0m\u001b[37m\u001b[0m \u001b[1m80s\u001b[0m 2s/step - accuracy: 1.0000 - loss: 0.0096 - val_accuracy: 1.0000 - val_loss: 0.0030\n",
      "Epoch 3/10\n",
      "\u001b[1m52/52\u001b[0m \u001b[32m━━━━━━━━━━━━━━━━━━━━\u001b[0m\u001b[37m\u001b[0m \u001b[1m81s\u001b[0m 2s/step - accuracy: 1.0000 - loss: 0.0025 - val_accuracy: 1.0000 - val_loss: 0.0015\n",
      "Epoch 4/10\n",
      "\u001b[1m52/52\u001b[0m \u001b[32m━━━━━━━━━━━━━━━━━━━━\u001b[0m\u001b[37m\u001b[0m \u001b[1m81s\u001b[0m 2s/step - accuracy: 1.0000 - loss: 0.0013 - val_accuracy: 1.0000 - val_loss: 9.0077e-04\n",
      "Epoch 5/10\n",
      "\u001b[1m52/52\u001b[0m \u001b[32m━━━━━━━━━━━━━━━━━━━━\u001b[0m\u001b[37m\u001b[0m \u001b[1m80s\u001b[0m 2s/step - accuracy: 1.0000 - loss: 8.2150e-04 - val_accuracy: 1.0000 - val_loss: 6.1159e-04\n",
      "Epoch 6/10\n",
      "\u001b[1m52/52\u001b[0m \u001b[32m━━━━━━━━━━━━━━━━━━━━\u001b[0m\u001b[37m\u001b[0m \u001b[1m80s\u001b[0m 2s/step - accuracy: 1.0000 - loss: 5.8329e-04 - val_accuracy: 1.0000 - val_loss: 4.5342e-04\n",
      "Epoch 7/10\n",
      "\u001b[1m52/52\u001b[0m \u001b[32m━━━━━━━━━━━━━━━━━━━━\u001b[0m\u001b[37m\u001b[0m \u001b[1m81s\u001b[0m 2s/step - accuracy: 1.0000 - loss: 4.0038e-04 - val_accuracy: 1.0000 - val_loss: 2.3486e-04\n",
      "Epoch 8/10\n",
      "\u001b[1m52/52\u001b[0m \u001b[32m━━━━━━━━━━━━━━━━━━━━\u001b[0m\u001b[37m\u001b[0m \u001b[1m79s\u001b[0m 2s/step - accuracy: 1.0000 - loss: 2.0718e-04 - val_accuracy: 1.0000 - val_loss: 1.4444e-04\n",
      "Epoch 9/10\n",
      "\u001b[1m52/52\u001b[0m \u001b[32m━━━━━━━━━━━━━━━━━━━━\u001b[0m\u001b[37m\u001b[0m \u001b[1m79s\u001b[0m 2s/step - accuracy: 1.0000 - loss: 1.3114e-04 - val_accuracy: 1.0000 - val_loss: 1.0101e-04\n",
      "Epoch 10/10\n",
      "\u001b[1m52/52\u001b[0m \u001b[32m━━━━━━━━━━━━━━━━━━━━\u001b[0m\u001b[37m\u001b[0m \u001b[1m79s\u001b[0m 2s/step - accuracy: 1.0000 - loss: 9.7888e-05 - val_accuracy: 1.0000 - val_loss: 7.5011e-05\n"
     ]
    }
   ],
   "source": [
    "# Load the ResNet50 model, without the top classification layer, and with ImageNet weights\n",
    "base_model = ResNet50(weights='imagenet', include_top=False, input_shape=(224, 224, 3))\n",
    "\n",
    "# Freeze the convolutional base to start with\n",
    "base_model.trainable = False\n",
    "\n",
    "\n",
    "x = base_model.output\n",
    "x = GlobalAveragePooling2D()(x)\n",
    "x = Dense(128, activation='relu')(x)\n",
    "output = Dense(1, activation='sigmoid')(x)  # binary classification\n",
    "\n",
    "model = Model(inputs=base_model.input, outputs=output)\n",
    "\n",
    "# Compile the model\n",
    "model.compile(optimizer=Adam(learning_rate=0.0001),\n",
    "              loss='binary_crossentropy',\n",
    "              metrics=['accuracy'])\n",
    "# Trying out early stopping because why not, will customize later\n",
    "early_stop = EarlyStopping(\n",
    "    monitor='val_loss',      # what to monitor\n",
    "    patience=3,              # stop after 3 epochs of no improvement\n",
    "    restore_best_weights=True  # revert to best weights\n",
    ")\n",
    "\n",
    "# Train the model after small bit of optimization, will customize more later\n",
    "history = model.fit(\n",
    "    train_data,\n",
    "    validation_data=val_data,\n",
    "    epochs=10,\n",
    "    callbacks=[early_stop] \n",
    ")\n",
    "\n"
   ]
  },
  {
   "cell_type": "code",
   "execution_count": 22,
   "id": "8935a5c3-1e09-4e14-8240-90b2047c5a23",
   "metadata": {},
   "outputs": [
    {
     "data": {
      "image/png": "[encoded data removed]",
      "text/plain": [
       "<Figure size 800x600 with 1 Axes>"
      ]
     },
     "metadata": {},
     "output_type": "display_data"
    }
   ],
   "source": [
    "\n",
    "# Plot training & validation accuracy values\n",
    "plt.figure(figsize=(8, 6))\n",
    "plt.plot(history.history['accuracy'], label='Training Accuracy', marker='o')\n",
    "plt.plot(history.history['val_accuracy'], label='Validation Accuracy', marker='o')\n",
    "plt.title('Model Accuracy')\n",
    "plt.xlabel('Epoch')\n",
    "plt.ylabel('Accuracy')\n",
    "plt.legend(loc='lower right')\n",
    "plt.grid(True)\n",
    "plt.tight_layout()\n",
    "plt.show()\n"
   ]
  },
  {
   "cell_type": "code",
   "execution_count": null,
   "id": "ea8181b0-6ce3-4298-98bd-9359c906ab9c",
   "metadata": {},
   "outputs": [],
   "source": [
    "#When using 400 civilian car images, the accuracy and validation was 100% before augmentation\n",
    "#When using 1000 civilian car images, the accuracy and validation was 100% before augmentation after 1 epoch\n"
   ]
  }
 ],
 "metadata": {
  "kernelspec": {
   "display_name": "Python 3 (ipykernel)",
   "language": "python",
   "name": "python3"
  },
  "language_info": {
   "codemirror_mode": {
    "name": "ipython",
    "version": 3
   },
   "file_extension": ".py",
   "mimetype": "text/x-python",
   "name": "python",
   "nbconvert_exporter": "python",
   "pygments_lexer": "ipython3",
   "version": "3.10.12"
  }
 },
 "nbformat": 4,
 "nbformat_minor": 5
}
